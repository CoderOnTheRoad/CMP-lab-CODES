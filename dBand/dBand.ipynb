{
 "cells": [
  {
   "cell_type": "markdown",
   "id": "7259e321",
   "metadata": {},
   "source": [
    "# dBand band and occupancy calculation\n",
    "### By- <font color=\"orange\">SOURAV GHOSH</font> \n",
    "#### Dept. of Physics, SRM AP\n",
    "#### email- sourav_ghosh@srmap.edu.in\n",
    "#### PhD Scholar (AP22135080004)\n",
    "#### Guide- Prof. Ranjit Thapa\n"
   ]
  },
  {
   "cell_type": "code",
   "execution_count": null,
   "id": "e64cce05",
   "metadata": {},
   "outputs": [],
   "source": [
    "import pandas as pd\n",
    "import numpy as np\n",
    "import math\n",
    "# from IPython.display import display"
   ]
  },
  {
   "cell_type": "markdown",
   "id": "dad91d4d",
   "metadata": {},
   "source": [
    "## ANALYSING THE DATA"
   ]
  },
  {
   "cell_type": "code",
   "execution_count": 56,
   "id": "03556f56",
   "metadata": {},
   "outputs": [],
   "source": [
    "######################################################################################\n",
    "df=pd.read_csv(\"dband.csv\")                                                          #\n",
    "##printing columns --                                                                #\n",
    "# print(f'columns are:-- {df.columns}\\n')                                            # Analysing the data\n",
    "                                                                                     #\n",
    "##printing first column values--                                                     #\n",
    "# print(f'First column etries are:-- \\n{df[\"Unnamed: 0\"]}\\n')                        #\n",
    "######################################################################################"
   ]
  },
  {
   "cell_type": "markdown",
   "id": "ae3c26e4",
   "metadata": {},
   "source": [
    "## CALCULATING FERMI ENERGY LEVEL INDEX"
   ]
  },
  {
   "cell_type": "code",
   "execution_count": 57,
   "id": "4888bf01",
   "metadata": {},
   "outputs": [],
   "source": [
    "######################################################################################\n",
    "##calculating the fermi energy index--                                               #\n",
    "##converting the energy column which is 'Unnamed: 0' to a numpy 1d array             #\n",
    "energy=df['Unnamed: 0'][1:].values.reshape(-1,1).flatten()                           #\n",
    "len_energy=len(energy)                                                               #\n",
    "fermi_level_index=0                                                                  # Calculating the index of fermi energy level\n",
    "for i in range(0,len_energy):                                                        #\n",
    "    if np.sign(energy[i])==1:                                                        #\n",
    "        fermi_level_index=i;                                                         #\n",
    "        break                                                                        #\n",
    "######################################################################################\n",
    "\n"
   ]
  },
  {
   "cell_type": "markdown",
   "id": "60b61aa1",
   "metadata": {},
   "source": [
    "## CREATING NEW DATAFRAME WITH ONLY THE NEEDED COLUMNS FROM THE GIVEN DATA"
   ]
  },
  {
   "cell_type": "code",
   "execution_count": 58,
   "id": "ee8179e9",
   "metadata": {},
   "outputs": [],
   "source": [
    "#################################################################################################################################################\n",
    "## creating a new dataframe with the energy column - 'Unnamed: 0', dUP- 'Unnamed: 5', dDOWN- 'Unnamed: 6'                                       #\n",
    "newdf=pd.DataFrame(df, columns=['Unnamed: 0','Unnamed: 5','Unnamed: 6'])                                                                        #\n",
    "##slicing the new dataframe upto the fermi energy level--                                                                                       #\n",
    "## we have to add 1 with fermi level index because we have taken the energy array starting from 1st index as the 0th index has null             #\n",
    "sliced=pd.DataFrame(newdf[1:fermi_level_index+1])                                                                                               #\n",
    "#print(f'Shape of the sliced dataframe upto fermi level is {sliced.shape}\\n')                                                                   #\n",
    "sliced.index=range(0,sliced.shape[0])## we have to change the index otherwise it will start from 1                                              #\n",
    "sliced.rename(columns={'Unnamed: 0':'E','Unnamed: 5':'dUP','Unnamed: 6':'dDOWN'},inplace = True) ##renaming the columns                         #\n",
    "# print(f'End entries of the dataframe looks like--\\n')                                                                                         #\n",
    "# sliced.tail()                                                                                                                                 #                                                                                                                            #\n",
    "#################################################################################################################################################"
   ]
  },
  {
   "cell_type": "code",
   "execution_count": 59,
   "id": "a3810c28",
   "metadata": {},
   "outputs": [],
   "source": [
    "#creating new columns in the sliced dataframe\n",
    "orbital=['dUP','dDOWN','nE']\n",
    "sliced['nE']=sliced['dUP']-sliced['dDOWN']\n",
    "for i in range(len(orbital)):\n",
    "    sliced[f'E*{orbital[i]}']=sliced['E']*sliced[orbital[i]]\n",
    "# sliced\n",
    "\n",
    "\n",
    "# sliced['E*nE']=sliced['E']*sliced['nE']\n",
    "# sliced"
   ]
  },
  {
   "cell_type": "code",
   "execution_count": 60,
   "id": "a79e9a2f",
   "metadata": {},
   "outputs": [],
   "source": [
    "## Plottinng the n*E vs E and n vs E graph --\n",
    "##uncomment the below code to see the plots\n",
    "# import matplotlib.pyplot as plt\n",
    "# plt.plot(sliced['E'],sliced['nE'])\n",
    "# plt.plot(sliced['E'],sliced['E*nE'],color='red')\n",
    "# plt.show()"
   ]
  },
  {
   "cell_type": "code",
   "execution_count": 63,
   "id": "989814e1",
   "metadata": {
    "scrolled": true
   },
   "outputs": [
    {
     "data": {
      "text/html": [
       "<div>\n",
       "<style scoped>\n",
       "    .dataframe tbody tr th:only-of-type {\n",
       "        vertical-align: middle;\n",
       "    }\n",
       "\n",
       "    .dataframe tbody tr th {\n",
       "        vertical-align: top;\n",
       "    }\n",
       "\n",
       "    .dataframe thead th {\n",
       "        text-align: right;\n",
       "    }\n",
       "</style>\n",
       "<table border=\"1\" class=\"dataframe\">\n",
       "  <thead>\n",
       "    <tr style=\"text-align: right;\">\n",
       "      <th></th>\n",
       "      <th>dUP</th>\n",
       "      <th>dDOWN</th>\n",
       "      <th>nE</th>\n",
       "    </tr>\n",
       "  </thead>\n",
       "  <tbody>\n",
       "    <tr>\n",
       "      <th>integaral_rho*E</th>\n",
       "      <td>11.535143</td>\n",
       "      <td>-4.516173</td>\n",
       "      <td>16.051316</td>\n",
       "    </tr>\n",
       "    <tr>\n",
       "      <th>Occupancy</th>\n",
       "      <td>-4.080106</td>\n",
       "      <td>2.178927</td>\n",
       "      <td>-6.259034</td>\n",
       "    </tr>\n",
       "    <tr>\n",
       "      <th>band_center</th>\n",
       "      <td>-2.827167</td>\n",
       "      <td>-2.072659</td>\n",
       "      <td>-2.564504</td>\n",
       "    </tr>\n",
       "  </tbody>\n",
       "</table>\n",
       "</div>"
      ],
      "text/plain": [
       "                       dUP     dDOWN         nE\n",
       "integaral_rho*E  11.535143 -4.516173  16.051316\n",
       "Occupancy        -4.080106  2.178927  -6.259034\n",
       "band_center      -2.827167 -2.072659  -2.564504"
      ]
     },
     "execution_count": 63,
     "metadata": {},
     "output_type": "execute_result"
    }
   ],
   "source": [
    "##RESULTS\n",
    "def integrate(x, y):\n",
    "    area = np.trapz(y=y, x=x)\n",
    "    return area\n",
    "index=['integaral_rho*E','Occupancy','band_center']\n",
    "result=pd.DataFrame(index=index)\n",
    "\n",
    "for i in range(len(orbital)):\n",
    "    integration_nE=integrate(sliced[orbital[i]].values,sliced['E'].values)\n",
    "    integration_EnE=integrate(sliced[f'E*{orbital[i]}'].values,sliced['E'].values)\n",
    "#     print(f'For integration of {orbital[i]} numerator is:: {integration_EnE}')\n",
    "#     print(f'For integration of {orbital[i]} denominator is:: {integration_nE}')\n",
    "#     print(f'integration of {orbital[i]} is:: {integration_EnE/integration_nE}')\n",
    "    li=[integration_EnE,integration_nE,integration_EnE/integration_nE]\n",
    "    result[f'{orbital[i]}']=li\n",
    "\n",
    "result.to_csv(\"result.csv\")\n",
    "\n",
    "\n",
    "result"
   ]
  },
  {
   "cell_type": "code",
   "execution_count": null,
   "id": "77de5b06",
   "metadata": {},
   "outputs": [],
   "source": []
  }
 ],
 "metadata": {
  "kernelspec": {
   "display_name": "Python 3 (ipykernel)",
   "language": "python",
   "name": "python3"
  },
  "language_info": {
   "codemirror_mode": {
    "name": "ipython",
    "version": 3
   },
   "file_extension": ".py",
   "mimetype": "text/x-python",
   "name": "python",
   "nbconvert_exporter": "python",
   "pygments_lexer": "ipython3",
   "version": "3.9.13"
  }
 },
 "nbformat": 4,
 "nbformat_minor": 5
}
